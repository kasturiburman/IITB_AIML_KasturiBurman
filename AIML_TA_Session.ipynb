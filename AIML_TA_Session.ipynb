{
 "cells": [
  {
   "cell_type": "code",
   "execution_count": 1,
   "metadata": {},
   "outputs": [],
   "source": [
    "import numpy as np\n",
    "from collections import Counter\n",
    "#import scipy\n",
    "from scipy import stats"
   ]
  },
  {
   "cell_type": "markdown",
   "metadata": {},
   "source": [
    "# Q1\n",
    "\n",
    "Loading the data as a numpy array"
   ]
  },
  {
   "cell_type": "code",
   "execution_count": 2,
   "metadata": {},
   "outputs": [],
   "source": [
    "arr = np.array([220.1, 219.2, 219, 221, 217, 215.5, 214.12, 215.7, 211.4, 210.9, 211.8, 212.4,\n",
    "                210.6, 209.5, 209.7, 208.9, 209.1, 209, 208.5, 208, 207.7, 207.6, 207.5, 207.4,\n",
    "                208.2, 206, 203.5, 203.7, 202.9, 200])"
   ]
  },
  {
   "cell_type": "markdown",
   "metadata": {},
   "source": [
    "Selection Sort: Choose the minimum value in each iteration and then place it in the first part of the array. Continue with the unsorted part of the array."
   ]
  },
  {
   "cell_type": "code",
   "execution_count": 3,
   "metadata": {},
   "outputs": [],
   "source": [
    "def selection_sort(nums):\n",
    "    # This value of i corresponds to how many values were sorted\n",
    "    for i in range(len(nums)):\n",
    "        # We assume that the first item of the unsorted segment is the smallest\n",
    "        min_value_index = i\n",
    "        # This loop iterates over the unsorted items\n",
    "        for j in range(i + 1, len(nums)):\n",
    "            if nums[j] < nums[min_value_index]:\n",
    "                min_value_index = j\n",
    "        # Swap values of the lowest unsorted element with the first unsorted element\n",
    "        nums[i], nums[min_value_index] = nums[min_value_index], nums[i]\n",
    "#sort(arr) can be used to sort the given array"
   ]
  },
  {
   "cell_type": "markdown",
   "metadata": {},
   "source": [
    "Arithmetic Mean: $\\bar{x}=\\frac{1}{n}\\sum_{i=1}^n x_i$"
   ]
  },
  {
   "cell_type": "code",
   "execution_count": 4,
   "metadata": {},
   "outputs": [
    {
     "name": "stdout",
     "output_type": "stream",
     "text": [
      "Mean value:\n",
      "210.53066666666663\n"
     ]
    }
   ],
   "source": [
    "print('Mean value:')\n",
    "S = 0\n",
    "for i in range(len(arr)):\n",
    "    S = S + arr[i]\n",
    "mean = S/len(arr)\n",
    "print(mean)"
   ]
  },
  {
   "cell_type": "code",
   "execution_count": 5,
   "metadata": {},
   "outputs": [
    {
     "name": "stdout",
     "output_type": "stream",
     "text": [
      "210.53066666666663\n"
     ]
    }
   ],
   "source": [
    "mean = np.mean(arr)\n",
    "print(mean)"
   ]
  },
  {
   "cell_type": "markdown",
   "metadata": {},
   "source": [
    "Median:\n",
    "The values need to be arranged in ascending or descending order.\n",
    "Median = $\\begin{cases}\n",
    "[(N+1)/2]^{\\text{th}}\\text{ value}, \\text{if $n$ is odd} \\\\\n",
    "\\frac{(N/2)^{\\text{th}}\\text{ value }+\\ [(N+1)/2]^{\\text{th}}\\text{ value}}{2}, \\text{if $n$ is even}.\n",
    "\\end{cases}$"
   ]
  },
  {
   "cell_type": "code",
   "execution_count": 6,
   "metadata": {},
   "outputs": [
    {
     "name": "stdout",
     "output_type": "stream",
     "text": [
      "Median value:\n",
      "[200.   202.9  203.5  203.7  206.   207.4  207.5  207.6  207.7  208.\n",
      " 208.2  208.5  208.9  209.   209.1  209.5  209.7  210.6  210.9  211.4\n",
      " 211.8  212.4  214.12 215.5  215.7  217.   219.   219.2  220.1  221.  ]\n"
     ]
    }
   ],
   "source": [
    "print('Median value:')\n",
    "selection_sort(arr)\n",
    "print(arr)"
   ]
  },
  {
   "cell_type": "code",
   "execution_count": 7,
   "metadata": {},
   "outputs": [
    {
     "name": "stdout",
     "output_type": "stream",
     "text": [
      "209.6\n"
     ]
    }
   ],
   "source": [
    "n = len(arr)\n",
    "if (n%2 == 0):\n",
    "    median = 0.5*(arr[int(n/2)] + arr[int(n/2)+1])\n",
    "else:\n",
    "    median = arr[int((n+1)/2)]\n",
    "print(median)"
   ]
  },
  {
   "cell_type": "code",
   "execution_count": 8,
   "metadata": {},
   "outputs": [
    {
     "name": "stdout",
     "output_type": "stream",
     "text": [
      "209.3\n"
     ]
    }
   ],
   "source": [
    "median = np.median(arr)\n",
    "print(median)"
   ]
  },
  {
   "cell_type": "markdown",
   "metadata": {},
   "source": [
    "Mode: Value which is most frequent."
   ]
  },
  {
   "cell_type": "code",
   "execution_count": 9,
   "metadata": {},
   "outputs": [
    {
     "name": "stdout",
     "output_type": "stream",
     "text": [
      "No mode found\n"
     ]
    }
   ],
   "source": [
    "n = len(arr)\n",
    "data = Counter(arr)   #Counter is a container that will hold the count of each of the elements present in the container.\n",
    "#print(data)\n",
    "get_mode = dict(data)  #dict() helps to make a value:count dictionary\n",
    "#print(get_mode)\n",
    "\n",
    "mode = [k for k, v in get_mode.items() if v == max(list(data.values()))]\n",
    "#print(get_mode.items())\n",
    "\n",
    "if len(mode) == n:\n",
    "    get_mode = \"No mode found\"\n",
    "else:\n",
    "    get_mode = \"Mode is/are:\" + ','.join(map(str, mode))\n",
    "\n",
    "print(get_mode)"
   ]
  },
  {
   "cell_type": "code",
   "execution_count": 10,
   "metadata": {},
   "outputs": [
    {
     "name": "stdout",
     "output_type": "stream",
     "text": [
      "ModeResult(mode=array([200.]), count=array([1]))\n"
     ]
    }
   ],
   "source": [
    "print(stats.mode(arr))\n",
    "#scipy.stats.mode(arr) returns an array of the modal (most common) value in the passed array.\n",
    "#If there is more than one such value, only the smallest is returned. The bin-count for the modal bins is also returned."
   ]
  },
  {
   "cell_type": "markdown",
   "metadata": {},
   "source": [
    "Geometric Mean:\n",
    "GM = $\\sqrt[n]{x_1x_2\\dots x_n}$"
   ]
  },
  {
   "cell_type": "code",
   "execution_count": 11,
   "metadata": {},
   "outputs": [
    {
     "name": "stdout",
     "output_type": "stream",
     "text": [
      "Geometric mean is:\n",
      "210.467132259474\n"
     ]
    }
   ],
   "source": [
    "print('Geometric mean is:')\n",
    "gm = stats.gmean(arr, axis=0, dtype=None)\n",
    "print(gm)"
   ]
  },
  {
   "cell_type": "markdown",
   "metadata": {},
   "source": [
    "Harmonic Mean:\n",
    "HM = $\\frac{1}{\\frac{1}{n}\\sum_{i=1}^n (1/x_i)}$"
   ]
  },
  {
   "cell_type": "code",
   "execution_count": 12,
   "metadata": {},
   "outputs": [
    {
     "name": "stdout",
     "output_type": "stream",
     "text": [
      "Harmonic mean is:\n",
      "210.4038933294496\n"
     ]
    }
   ],
   "source": [
    "print('Harmonic mean is:')\n",
    "hm = stats.hmean(arr, axis=0, dtype=None)\n",
    "print(hm)"
   ]
  },
  {
   "cell_type": "markdown",
   "metadata": {},
   "source": [
    "# Q2\n",
    "\n",
    "Loading the frquency table data"
   ]
  },
  {
   "cell_type": "code",
   "execution_count": 13,
   "metadata": {},
   "outputs": [],
   "source": [
    "freq = np.array([3, 6, 20, 10, 8, 3])\n",
    "wages = np.array([135, 165, 195, 225, 255, 285])"
   ]
  },
  {
   "cell_type": "markdown",
   "metadata": {},
   "source": [
    "Mean = $\\frac{\\sum_{i=1}^nf_ix_i}{\\sum_{i=1}^nf_i}$"
   ]
  },
  {
   "cell_type": "code",
   "execution_count": 14,
   "metadata": {},
   "outputs": [
    {
     "name": "stdout",
     "output_type": "stream",
     "text": [
      "Mean value is:\n",
      "208.8\n"
     ]
    }
   ],
   "source": [
    "print('Mean value is:')\n",
    "sum_ = 0\n",
    "for i in range(len(freq)):\n",
    "    sum_ = sum_ + wages[i] * freq[i]\n",
    "\n",
    "mean = sum_/sum(freq)\n",
    "print(mean)"
   ]
  },
  {
   "cell_type": "markdown",
   "metadata": {},
   "source": [
    "Median = $l+\\frac{h}{f}\\left(\\frac{N}{2}-c\\right)$"
   ]
  },
  {
   "cell_type": "code",
   "execution_count": 15,
   "metadata": {},
   "outputs": [
    {
     "name": "stdout",
     "output_type": "stream",
     "text": [
      "Median value is:\n",
      "204.0\n"
     ]
    }
   ],
   "source": [
    "s = 0\n",
    "h = wages[1] - wages[0]\n",
    "cfreq = np.zeros(len(freq))\n",
    "cfreq[0] = freq[0]\n",
    "for i in range(1,len(freq)):\n",
    "    cfreq[i] = cfreq[i-1] + freq[i]\n",
    "\n",
    "m_index = 0\n",
    "l = wages[0] - h/2\n",
    "while cfreq[m_index] < sum(freq)/2:\n",
    "    m_index = m_index + 1\n",
    "l = wages[m_index] - h/2\n",
    "median = l + h/freq[m_index]*(sum(freq)/2 - cfreq[m_index-1])\n",
    "print('Median value is:')\n",
    "print(median)"
   ]
  },
  {
   "cell_type": "markdown",
   "metadata": {},
   "source": [
    "Mode = $l+\\frac{h(f_1-f_0)}{2f_1-f_0-f_2}$"
   ]
  },
  {
   "cell_type": "code",
   "execution_count": 16,
   "metadata": {},
   "outputs": [
    {
     "name": "stdout",
     "output_type": "stream",
     "text": [
      "Mode value is:\n",
      "197.5\n"
     ]
    }
   ],
   "source": [
    "#----------------------MODE-------------------\n",
    "print('Mode value is:')\n",
    "mode_index = max(range(len(freq)), key=freq.__getitem__)\n",
    "h = wages[1] - wages[0]\n",
    "l = wages[mode_index] - h/2\n",
    "f1 = freq[mode_index]\n",
    "if mode_index == 0:\n",
    "    f0 = 0\n",
    "else:\n",
    "    f0 = freq[mode_index-1]\n",
    "if mode_index == len(wages) - 1:\n",
    "    f2 = 0\n",
    "else:\n",
    "    f2 = freq[mode_index+1]\n",
    "mode = l + h*(f1 - f0)/(2*f1 - f0 -f2)\n",
    "print(mode)"
   ]
  },
  {
   "cell_type": "markdown",
   "metadata": {},
   "source": [
    "Geometric Mean"
   ]
  },
  {
   "cell_type": "code",
   "execution_count": 17,
   "metadata": {},
   "outputs": [
    {
     "name": "stdout",
     "output_type": "stream",
     "text": [
      "nan\n"
     ]
    },
    {
     "name": "stderr",
     "output_type": "stream",
     "text": [
      "C:\\Users\\Akash\\Anaconda3\\lib\\site-packages\\ipykernel_launcher.py:3: RuntimeWarning: overflow encountered in long_scalars\n",
      "  This is separate from the ipykernel package so we can avoid doing imports until\n",
      "C:\\Users\\Akash\\Anaconda3\\lib\\site-packages\\ipykernel_launcher.py:4: RuntimeWarning: invalid value encountered in power\n",
      "  after removing the cwd from sys.path.\n"
     ]
    }
   ],
   "source": [
    "s = 1\n",
    "for i in range(len(freq)):\n",
    "    s = s*(wages[i]**freq[i])\n",
    "gm = s**(1/sum(freq))\n",
    "print(gm)"
   ]
  },
  {
   "cell_type": "markdown",
   "metadata": {},
   "source": [
    "Geometric Mean:\n",
    "\n",
    "\\begin{align*}\n",
    "    GM &= \\sqrt[N]{x_1^{f_1} x_2^{f2}\\dots x_n^{f_n}}\\\\\n",
    "    \\implies \\log(GM) &= \\frac{1}{N} \\left(\\sum_{i=1}^n f_i x_i\\right)\\\\\n",
    "    \\implies GM &= \\exp{ \\left(\\frac{1}{N}\\sum_{i=1}^n f_i x_i\\right)}\n",
    "\\end{align*}"
   ]
  },
  {
   "cell_type": "code",
   "execution_count": 18,
   "metadata": {},
   "outputs": [
    {
     "name": "stdout",
     "output_type": "stream",
     "text": [
      "Geometric mean is:\n",
      "205.44972678307585\n"
     ]
    }
   ],
   "source": [
    "print('Geometric mean is:')\n",
    "s = 0\n",
    "for i in range(len(freq)):\n",
    "    s = s + freq[i]*np.log(wages[i])\n",
    "gm = np.exp(1/sum(freq)*s)\n",
    "print(gm)"
   ]
  },
  {
   "cell_type": "markdown",
   "metadata": {},
   "source": [
    "Harmonic Mean:\n",
    "\n",
    "$HM = \\frac{1}{\\frac{1}{N}\\sum_{i=1}^n(f_i/x_i)}$"
   ]
  },
  {
   "cell_type": "code",
   "execution_count": 19,
   "metadata": {},
   "outputs": [
    {
     "name": "stdout",
     "output_type": "stream",
     "text": [
      "Harmonic mean is:\n",
      "202.0256951572268\n"
     ]
    }
   ],
   "source": [
    "#-----------------Harmonic mean------------------\n",
    "print('Harmonic mean is:')\n",
    "s = 0\n",
    "for i in range(len(freq)):\n",
    "    s = s + freq[i]/wages[i]\n",
    "hm = 1/(s/sum(freq))\n",
    "print(hm)"
   ]
  },
  {
   "cell_type": "markdown",
   "metadata": {},
   "source": [
    "# Q3"
   ]
  },
  {
   "cell_type": "code",
   "execution_count": 20,
   "metadata": {},
   "outputs": [
    {
     "name": "stdout",
     "output_type": "stream",
     "text": [
      "Home to office speed: 10km/h\n",
      "Office to home speed: 15km/h\n",
      "Average speed:\n",
      "12.0\n"
     ]
    }
   ],
   "source": [
    "speed1 = 10\n",
    "speed2 = 15\n",
    "\n",
    "print('Home to office speed: 10km/h')\n",
    "print('Office to home speed: 15km/h')\n",
    "\n",
    "print('Average speed:')\n",
    "avg =  2*(speed1 * speed2)/(speed1 +speed2)\n",
    "\n",
    "print(avg)"
   ]
  },
  {
   "cell_type": "code",
   "execution_count": null,
   "metadata": {},
   "outputs": [],
   "source": []
  }
 ],
 "metadata": {
  "kernelspec": {
   "display_name": "Python 3",
   "language": "python",
   "name": "python3"
  },
  "language_info": {
   "codemirror_mode": {
    "name": "ipython",
    "version": 3
   },
   "file_extension": ".py",
   "mimetype": "text/x-python",
   "name": "python",
   "nbconvert_exporter": "python",
   "pygments_lexer": "ipython3",
   "version": "3.6.5"
  }
 },
 "nbformat": 4,
 "nbformat_minor": 2
}
